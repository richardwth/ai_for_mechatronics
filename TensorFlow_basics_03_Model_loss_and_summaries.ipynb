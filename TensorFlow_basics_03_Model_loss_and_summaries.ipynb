{
 "cells": [
  {
   "cell_type": "code",
   "execution_count": 1,
   "metadata": {
    "collapsed": true
   },
   "outputs": [
    {
     "data": {
      "text/plain": [
       "'1.13.0'"
      ]
     },
     "execution_count": 1,
     "metadata": {},
     "output_type": "execute_result"
    }
   ],
   "source": [
    "from GeneralTools.misc_fun import FLAGS\n",
    "\n",
    "FLAGS.TENSORFLOW_VERSION\n"
   ]
  },
  {
   "cell_type": "code",
   "execution_count": 9,
   "metadata": {},
   "outputs": [
    {
     "name": "stdout",
     "output_type": "stream",
     "text": [
      "The name/operation of a1 is 'const_a1:0'\nThe name/operation of b1 is 'var_b1:0'\nThe name/operation of c1 is 'op_1:0'\n------\nThe name/operation of a2 is 'layer01/const_a2:0'\nThe name/operation of b2 is 'layer01/var_b2:0'\nThe name/operation of c2 is 'layer01/op_2:0'\n------\nThe name/operation of a3 is 'layer02/const_a3:0'\nThe name/operation of b3 is 'var_b3:0'\nThe name/operation of c3 is 'layer02/op_3:0'\n"
     ]
    }
   ],
   "source": [
    "import tensorflow as tf\n",
    "\"\"\"\n",
    "Scope - continue\n",
    "\n",
    "tf.variable_scope vs tf.name_scope\n",
    " -- variable_scope applies to constants, variables and operations\n",
    " -- name_scope applies to constants and operations, but not variables\n",
    "\"\"\"\n",
    "\n",
    "with tf.Graph().as_default():\n",
    "    a1 = tf.constant(0.1, name='const_a1')\n",
    "    b1 = tf.get_variable(\n",
    "        name='var_b1', dtype=tf.float32, \n",
    "        initializer=a1)\n",
    "    c1 = tf.multiply(a1, b1, name='op_1')\n",
    "\n",
    "    with tf.variable_scope('layer01'):\n",
    "        # variable scope applies to constants, variables and operations\n",
    "        a2 = tf.constant(0.1, name='const_a2')\n",
    "        b2 = tf.get_variable(\n",
    "            name='var_b2', dtype=tf.float32, \n",
    "            initializer=a1)  # initializer could be a1, b1, a2\n",
    "        c2 = tf.multiply(a2, b2, name='op_2')\n",
    "        \n",
    "    with tf.name_scope('layer02'):\n",
    "        # name scope applies to constants and operations\n",
    "        a3 = tf.constant(0.1, name='const_a3')\n",
    "        # name scope does not apply to variables\n",
    "        b3 = tf.get_variable(\n",
    "            name='var_b3', dtype=tf.float32, \n",
    "            initializer=a1)  # initialize could be a1, b1, a2, b2, a3\n",
    "        c3 = tf.multiply(a3, b3, name='op_3')\n",
    "    \n",
    "print(\"The name/operation of a1 is '{}'\".format(a1.name))\n",
    "print(\"The name/operation of b1 is '{}'\".format(b1.name))\n",
    "print(\"The name/operation of c1 is '{}'\".format(c1.name))\n",
    "print('------')\n",
    "print(\"The name/operation of a2 is '{}'\".format(a2.name))\n",
    "print(\"The name/operation of b2 is '{}'\".format(b2.name))\n",
    "print(\"The name/operation of c2 is '{}'\".format(c2.name))\n",
    "print('------')\n",
    "print(\"The name/operation of a3 is '{}'\".format(a3.name))\n",
    "print(\"The name/operation of b3 is '{}'\".format(b3.name))\n",
    "print(\"The name/operation of c3 is '{}'\".format(c3.name))\n"
   ]
  },
  {
   "cell_type": "code",
   "execution_count": 6,
   "metadata": {
    "collapsed": true
   },
   "outputs": [
    {
     "name": "stdout",
     "output_type": "stream",
     "text": [
      "TrainData dataset output type is (tf.float32, tf.int32)\nTrainData dataset output shape is (TensorShape([Dimension(28), Dimension(28)]), TensorShape([]))\nValidateData dataset output type is (tf.float32, tf.int32)\nValidateData dataset output shape is (TensorShape([Dimension(28), Dimension(28)]), TensorShape([]))\nMomentum Optimizer is used.\n"
     ]
    },
    {
     "name": "stdout",
     "output_type": "stream",
     "text": [
      "Graph initialization finished...\nNo ckpt model is loaded for current calculation.\n"
     ]
    },
    {
     "name": "stdout",
     "output_type": "stream",
     "text": [
      "No ckpt model is loaded for current calculation.\n"
     ]
    },
    {
     "name": "stdout",
     "output_type": "stream",
     "text": [
      "INFO:tensorflow:Restoring parameters from C:/Users/richa/PycharmProjects/ai_mechatronics/Results/trial/trial_01_ckpt\\trial_01.ckpt-100\n"
     ]
    },
    {
     "name": "stdout",
     "output_type": "stream",
     "text": [
      "Model reloaded from C:/Users/richa/PycharmProjects/ai_mechatronics/Results/trial/trial_01_ckpt\\.\n"
     ]
    },
    {
     "name": "stdout",
     "output_type": "stream",
     "text": [
      "Epoch 0, global steps 101, training loss: <1.135>, accuracy: <0.683>, validation loss: <1.078>, acc: <0.710>\nEpoch 0, global steps 121, training loss: <0.536>, accuracy: <0.900>, validation loss: <0.360>, acc: <0.930>"
     ]
    },
    {
     "name": "stdout",
     "output_type": "stream",
     "text": [
      "\nEpoch 0, global steps 141, training loss: <0.407>, accuracy: <0.883>, validation loss: <0.346>, acc: <0.920>\nEpoch 0, global steps 161, training loss: <0.338>, accuracy: <0.900>, validation loss: <0.297>, acc: <0.920>\n"
     ]
    },
    {
     "name": "stdout",
     "output_type": "stream",
     "text": [
      "Epoch 0, global steps 181, training loss: <0.327>, accuracy: <0.917>, validation loss: <0.356>, acc: <0.870>\n"
     ]
    },
    {
     "name": "stdout",
     "output_type": "stream",
     "text": [
      "Training for 100 steps took 1.734 sec.\nSession finished.\n"
     ]
    }
   ],
   "source": [
    "import tensorflow as tf\n",
    "from my_classifier import MyClassifier\n",
    "\n",
    "\"\"\"\n",
    "Train a model\n",
    "\n",
    "Here I used debug model to do profiling / tracing at the last five steps\n",
    "I also loaded previously saved model and save the model after training.\n",
    "\"\"\"\n",
    "\n",
    "with tf.Graph().as_default():\n",
    "    # load the data\n",
    "    (x_train, y_train), (x_test, y_test) = tf.keras.datasets.mnist.load_data()\n",
    "    \n",
    "    # define the model\n",
    "    net_design = [{'name': 'l1', 'out': 33, 'op': 'd', 'act': 'relu', 'in_reshape': [784]}, \n",
    "                  {'name': 'l2', 'out': 66, 'op': 'd', 'act': 'relu'}, \n",
    "                  {'name': 'l3', 'out': 10, 'op': 'd'}]\n",
    "    mdl = MyClassifier(\n",
    "        net_design, input_shape=[None, 28, 28], num_class=10, \n",
    "        optimizer='momentum', name='classifier')\n",
    "    # do training use debug model\n",
    "    # for long training process, turn off debug mode and increase max_step\n",
    "    mdl.train(\n",
    "        x_train, y_train, batch_size=60,\n",
    "        map_func=lambda x, y: (x/255.0, y), \n",
    "        x_validate=x_test, y_validate=y_test, \n",
    "        model_folder='trial/trial_01', max_step=100, \n",
    "        debug_mode=True, query_step=20, load_ckpt=True, do_trace=True)\n"
   ]
  },
  {
   "cell_type": "code",
   "execution_count": 5,
   "metadata": {},
   "outputs": [
    {
     "name": "stdout",
     "output_type": "stream",
     "text": [
      "TestData dataset output type is (tf.float32, tf.int32)\nTestData dataset output shape is (TensorShape([Dimension(28), Dimension(28)]), TensorShape([]))\nGraph initialization finished...\nNo ckpt model is loaded for current calculation.\n"
     ]
    },
    {
     "name": "stdout",
     "output_type": "stream",
     "text": [
      "INFO:tensorflow:Restoring parameters from C:/Users/richa/PycharmProjects/ai_mechatronics/Results/trial/trial_01_ckpt\\trial_01.ckpt-100\n"
     ]
    },
    {
     "name": "stdout",
     "output_type": "stream",
     "text": [
      "Model reloaded from C:/Users/richa/PycharmProjects/ai_mechatronics/Results/trial/trial_01_ckpt\\.\nCalculation took 0.031 sec.\nSession finished.\nThe test accuracy is 0.560\n"
     ]
    }
   ],
   "source": [
    "import tensorflow as tf\n",
    "from my_classifier import MyClassifier\n",
    "\n",
    "\"\"\"\n",
    "Test a model\n",
    "\n",
    "Here I reinitialized the model, loaded previously saved model and \n",
    "did predictions on new test data.\n",
    "\"\"\"\n",
    "\n",
    "with tf.Graph().as_default():\n",
    "    # load the data\n",
    "    (x_train, y_train), (x_test, y_test) = tf.keras.datasets.mnist.load_data()\n",
    "    \n",
    "    # define the model\n",
    "    net_design = [{'name': 'l1', 'out': 33, 'op': 'd', 'act': 'relu', 'in_reshape': [784]}, \n",
    "                  {'name': 'l2', 'out': 66, 'op': 'd', 'act': 'relu'}, \n",
    "                  {'name': 'l3', 'out': 10, 'op': 'd'}]\n",
    "    mdl = MyClassifier(\n",
    "        net_design, input_shape=[None, 28, 28], num_class=10, \n",
    "        optimizer='momentum', name='classifier')\n",
    "    # make prediction\n",
    "    predictions, loss, acc = mdl.test(\n",
    "        x_test, y_test, map_func=lambda x, y: (x/255.0, y), model_folder='trial/trial_01')\n",
    "    \n",
    "    print('The test accuracy on test set is {:.3f}'.format(acc))\n"
   ]
  },
  {
   "cell_type": "code",
   "execution_count": 1,
   "metadata": {
    "collapsed": true
   },
   "outputs": [
    {
     "name": "stdout",
     "output_type": "stream",
     "text": [
      "WARNING:tensorflow:From C:\\Users\\richa\\PycharmProjects\\ai_mechatronics\\GeneralTools\\my_layer.py:28: calling VarianceScaling.__init__ (from tensorflow.python.ops.init_ops) with distribution=normal is deprecated and will be removed in a future version.\nInstructions for updating:\n`normal` is a deprecated alias for `truncated_normal`\n"
     ]
    },
    {
     "name": "stdout",
     "output_type": "stream",
     "text": [
      "VisualizeData dataset output type is (tf.float32, tf.int32)\nVisualizeData dataset output shape is (TensorShape([Dimension(28), Dimension(28)]), TensorShape([]))\nWARNING:tensorflow:From C:\\Users\\richa\\AppData\\Local\\conda\\conda\\envs\\py36\\lib\\site-packages\\tensorflow\\python\\data\\ops\\dataset_ops.py:1419: colocate_with (from tensorflow.python.framework.ops) is deprecated and will be removed in a future version.\nInstructions for updating:\nColocations handled automatically by placer.\n"
     ]
    },
    {
     "name": "stdout",
     "output_type": "stream",
     "text": [
      "Graph initialization finished...\nNo ckpt model is loaded for current calculation.\n"
     ]
    },
    {
     "name": "stdout",
     "output_type": "stream",
     "text": [
      "WARNING:tensorflow:From C:\\Users\\richa\\AppData\\Local\\conda\\conda\\envs\\py36\\lib\\site-packages\\tensorflow\\python\\training\\saver.py:1266: checkpoint_exists (from tensorflow.python.training.checkpoint_management) is deprecated and will be removed in a future version.\nInstructions for updating:\nUse standard file APIs to check for files with this prefix.\n"
     ]
    },
    {
     "name": "stdout",
     "output_type": "stream",
     "text": [
      "INFO:tensorflow:Restoring parameters from C:/Users/richa/PycharmProjects/ai_mechatronics/Results/trial/trial_01_ckpt\\trial_01.ckpt-200\n"
     ]
    },
    {
     "name": "stdout",
     "output_type": "stream",
     "text": [
      "Model reloaded from C:/Users/richa/PycharmProjects/ai_mechatronics/Results/trial/trial_01_ckpt\\.\n"
     ]
    },
    {
     "name": "stdout",
     "output_type": "stream",
     "text": [
      "Session finished.\nMesh_num will be calculated as sqrt of batch_size\n"
     ]
    }
   ],
   "source": [
    "import tensorflow as tf\n",
    "from my_classifier import MyClassifier\n",
    "\n",
    "\"\"\"\n",
    "Visualize any layer output\n",
    "\n",
    "\"\"\"\n",
    "\n",
    "with tf.Graph().as_default():\n",
    "    # load the data\n",
    "    (x_train, y_train), (x_test, y_test) = tf.keras.datasets.mnist.load_data()\n",
    "    \n",
    "    # define the model\n",
    "    net_design = [{'name': 'l1', 'out': 33, 'op': 'd', 'act': 'relu', 'in_reshape': [784]}, \n",
    "                  {'name': 'l2', 'out': 66, 'op': 'd', 'act': 'relu'}, \n",
    "                  {'name': 'l3', 'out': 10, 'op': 'd'}]\n",
    "    mdl = MyClassifier(\n",
    "        net_design, input_shape=[None, 28, 28], num_class=10, \n",
    "        optimizer='momentum', name='classifier')\n",
    "    \n",
    "    layer_to_visualize = 'l2'  # could be 'input' to visualize the raw data\n",
    "    mdl.visualize_layer_output(\n",
    "        layer_to_visualize, x_train, y_train, batch_size=400, \n",
    "        map_func=lambda x, y: (x/255.0, y),\n",
    "        model_folder='trial/trial_01', \n",
    "        save_folder='trial/visual_{}/{}'.format(layer_to_visualize, layer_to_visualize), \n",
    "        invert_image=True)\n"
   ]
  },
  {
   "cell_type": "code",
   "execution_count": null,
   "metadata": {},
   "outputs": [],
   "source": [
    ""
   ]
  }
 ],
 "metadata": {
  "kernelspec": {
   "display_name": "Python 2",
   "language": "python",
   "name": "python2"
  },
  "language_info": {
   "codemirror_mode": {
    "name": "ipython",
    "version": 2
   },
   "file_extension": ".py",
   "mimetype": "text/x-python",
   "name": "python",
   "nbconvert_exporter": "python",
   "pygments_lexer": "ipython2",
   "version": "2.7.6"
  }
 },
 "nbformat": 4,
 "nbformat_minor": 0
}
