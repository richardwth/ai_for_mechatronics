{
 "cells": [
  {
   "cell_type": "code",
   "execution_count": 1,
   "metadata": {
    "collapsed": true
   },
   "outputs": [
    {
     "data": {
      "text/plain": [
       "'1.13.0'"
      ]
     },
     "execution_count": 1,
     "metadata": {},
     "output_type": "execute_result"
    }
   ],
   "source": [
    "from GeneralTools.misc_fun import FLAGS\n",
    "\n",
    "FLAGS.TENSORFLOW_VERSION\n"
   ]
  },
  {
   "cell_type": "code",
   "execution_count": 9,
   "metadata": {},
   "outputs": [
    {
     "name": "stdout",
     "output_type": "stream",
     "text": [
      "The name/operation of a1 is 'const_a1:0'\nThe name/operation of b1 is 'var_b1:0'\nThe name/operation of c1 is 'op_1:0'\n------\nThe name/operation of a2 is 'layer01/const_a2:0'\nThe name/operation of b2 is 'layer01/var_b2:0'\nThe name/operation of c2 is 'layer01/op_2:0'\n------\nThe name/operation of a3 is 'layer02/const_a3:0'\nThe name/operation of b3 is 'var_b3:0'\nThe name/operation of c3 is 'layer02/op_3:0'\n"
     ]
    }
   ],
   "source": [
    "import tensorflow as tf\n",
    "\"\"\"\n",
    "Scope - continue\n",
    "\n",
    "tf.variable_scope vs tf.name_scope\n",
    " -- variable_scope applies to constants, variables and operations\n",
    " -- name_scope applies to constants and operations, but not variables\n",
    "\"\"\"\n",
    "\n",
    "with tf.Graph().as_default():\n",
    "    a1 = tf.constant(0.1, name='const_a1')\n",
    "    b1 = tf.get_variable(\n",
    "        name='var_b1', dtype=tf.float32, \n",
    "        initializer=a1)\n",
    "    c1 = tf.multiply(a1, b1, name='op_1')\n",
    "\n",
    "    with tf.variable_scope('layer01'):\n",
    "        # variable scope applies to constants, variables and operations\n",
    "        a2 = tf.constant(0.1, name='const_a2')\n",
    "        b2 = tf.get_variable(\n",
    "            name='var_b2', dtype=tf.float32, \n",
    "            initializer=a1)  # initializer could be a1, b1, a2\n",
    "        c2 = tf.multiply(a2, b2, name='op_2')\n",
    "        \n",
    "    with tf.name_scope('layer02'):\n",
    "        # name scope applies to constants and operations\n",
    "        a3 = tf.constant(0.1, name='const_a3')\n",
    "        # name scope does not apply to variables\n",
    "        b3 = tf.get_variable(\n",
    "            name='var_b3', dtype=tf.float32, \n",
    "            initializer=a1)  # initialize could be a1, b1, a2, b2, a3\n",
    "        c3 = tf.multiply(a3, b3, name='op_3')\n",
    "    \n",
    "print(\"The name/operation of a1 is '{}'\".format(a1.name))\n",
    "print(\"The name/operation of b1 is '{}'\".format(b1.name))\n",
    "print(\"The name/operation of c1 is '{}'\".format(c1.name))\n",
    "print('------')\n",
    "print(\"The name/operation of a2 is '{}'\".format(a2.name))\n",
    "print(\"The name/operation of b2 is '{}'\".format(b2.name))\n",
    "print(\"The name/operation of c2 is '{}'\".format(c2.name))\n",
    "print('------')\n",
    "print(\"The name/operation of a3 is '{}'\".format(a3.name))\n",
    "print(\"The name/operation of b3 is '{}'\".format(b3.name))\n",
    "print(\"The name/operation of c3 is '{}'\".format(c3.name))\n"
   ]
  },
  {
   "cell_type": "code",
   "execution_count": 6,
   "metadata": {
    "collapsed": true
   },
   "outputs": [
    {
     "name": "stdout",
     "output_type": "stream",
     "text": [
      "TrainData dataset output type is (tf.float32, tf.int32)\nTrainData dataset output shape is (TensorShape([Dimension(28), Dimension(28)]), TensorShape([]))\nWARNING:tensorflow:From C:\\Users\\richa\\AppData\\Local\\conda\\conda\\envs\\py36\\lib\\site-packages\\tensorflow\\python\\data\\ops\\dataset_ops.py:1419: colocate_with (from tensorflow.python.framework.ops) is deprecated and will be removed in a future version.\nInstructions for updating:\nColocations handled automatically by placer.\n"
     ]
    },
    {
     "name": "stdout",
     "output_type": "stream",
     "text": [
      "(10, 28, 28)\n"
     ]
    }
   ],
   "source": [
    "import tensorflow as tf\n",
    "from GeneralTools.my_input import DatasetFromTensor\n",
    "\n",
    "with tf.Graph().as_default():\n",
    "    # load the data\n",
    "    (x_train, y_train), (x_test, y_test) = tf.keras.datasets.mnist.load_data()\n",
    "    data_tr = DatasetFromTensor(\n",
    "        (x_train, y_train), (tf.float32, tf.int32), \n",
    "        map_func=lambda x, y: (x/255.0, y),\n",
    "        name='TrainData').schedule(10)\n",
    "    xtr, ytr = data_tr.next()\n",
    "    initializer = data_tr.initializer()\n",
    "    \n",
    "    with tf.Session() as sess:\n",
    "        sess.run(initializer[0], feed_dict=initializer[1])\n",
    "        xv = sess.run(xtr)\n",
    "        print(xv.shape)\n"
   ]
  },
  {
   "cell_type": "code",
   "execution_count": 1,
   "metadata": {
    "collapsed": true
   },
   "outputs": [
    {
     "name": "stdout",
     "output_type": "stream",
     "text": [
      "WARNING:tensorflow:From C:\\Users\\richa\\AppData\\Local\\conda\\conda\\envs\\py36\\lib\\site-packages\\tensorflow\\python\\framework\\op_def_library.py:263: colocate_with (from tensorflow.python.framework.ops) is deprecated and will be removed in a future version.\nInstructions for updating:\nColocations handled automatically by placer.\n"
     ]
    },
    {
     "name": "stdout",
     "output_type": "stream",
     "text": [
      "WARNING:tensorflow:From C:\\Users\\richa\\AppData\\Local\\conda\\conda\\envs\\py36\\lib\\site-packages\\tensorflow\\python\\ops\\losses\\losses_impl.py:667: to_float (from tensorflow.python.ops.math_ops) is deprecated and will be removed in a future version.\nInstructions for updating:\nUse tf.cast instead.\n"
     ]
    },
    {
     "name": "stdout",
     "output_type": "stream",
     "text": [
      "Adam Optimizer is used.\n"
     ]
    },
    {
     "name": "stdout",
     "output_type": "stream",
     "text": [
      "<tf.Variable 'global_step:0' shape=() dtype=int32_ref>\nGraph initialization finished...\n"
     ]
    },
    {
     "name": "stdout",
     "output_type": "stream",
     "text": [
      "WARNING:tensorflow:From C:\\Users\\richa\\AppData\\Local\\conda\\conda\\envs\\py36\\lib\\site-packages\\tensorflow\\python\\training\\saver.py:1266: checkpoint_exists (from tensorflow.python.training.checkpoint_management) is deprecated and will be removed in a future version.\nInstructions for updating:\nUse standard file APIs to check for files with this prefix.\n"
     ]
    },
    {
     "name": "stdout",
     "output_type": "stream",
     "text": [
      "INFO:tensorflow:Restoring parameters from C:/Users/richa/PycharmProjects/ai_mechatronics/Results/test\\test01_ckpt\\test01.ckpt-100\n"
     ]
    },
    {
     "name": "stdout",
     "output_type": "stream",
     "text": [
      "Model reloaded from C:/Users/richa/PycharmProjects/ai_mechatronics/Results/test\\test01_ckpt\\.\n"
     ]
    },
    {
     "name": "stdout",
     "output_type": "stream",
     "text": [
      "Epoch 0, global steps 109, query value ['<1.242>']\nEpoch 0, global steps 119, query value ['<0.850>']\nEpoch 0, global steps 129, query value ['<0.953>']"
     ]
    },
    {
     "name": "stdout",
     "output_type": "stream",
     "text": [
      "\nEpoch 0, global steps 139, query value ['<1.035>']\nEpoch 0, global steps 149, query value ['<1.105>']\nEpoch 0, global steps 159, query value ['<0.985>']\nEpoch 0, global steps 169, query value ['<1.039>']\nEpoch 0, global steps 179, query value ['<0.767>']\nEpoch 0, global steps 189, query value ['<0.913>']\nEpoch 0, global steps 199, query value ['<1.103>']\n"
     ]
    },
    {
     "name": "stdout",
     "output_type": "stream",
     "text": [
      "Training for 100 steps took 0.940 sec.\nSession finished.\n"
     ]
    }
   ],
   "source": [
    "import tensorflow as tf\n",
    "import os.path\n",
    "from GeneralTools.misc_fun import FLAGS\n",
    "FLAGS.DEFAULT_OUT = 'C:/Users/richa/PycharmProjects/ai_mechatronics/Results/test'\n",
    "from GeneralTools.my_layer import SequentialNet\n",
    "from GeneralTools.my_graph import MySession, graph_configure, prepare_folder\n",
    "\n",
    "with tf.Graph().as_default():\n",
    "    x = tf.random_normal((64, 28))\n",
    "    y = tf.random_normal((64, ))\n",
    "    # net_design = [{'name': 'l1', 'out': 33, 'op': 'c', 'in_reshape': (1, 28, 28)}, \n",
    "    #               {'name': 'l2', 'out': 66, 'op': 'c', 'stride': 2}, \n",
    "    #               {'name': 'l3', 'out': 11, 'op': 'c', 'stride': 2}]\n",
    "    net_design = [{'name': 'l1', 'out': 33, 'op': 'd'}, \n",
    "                  {'name': 'l2', 'out': 66, 'op': 'd'}, \n",
    "                  {'name': 'l3', 'out': 1, 'op': 'd'}]\n",
    "    mdl = SequentialNet(net_design, input_shape=[None, 28], name='MLP')\n",
    "    \n",
    "    y2 = mdl(x)\n",
    "    \n",
    "    loss = tf.losses.mean_squared_error(\n",
    "        y, y2, weights=1.0, scope=None, \n",
    "        reduction=tf.losses.Reduction.SUM_BY_NONZERO_WEIGHTS)\n",
    "    global_step, opt_op, _ = graph_configure(0.1)\n",
    "    op = opt_op.minimize(loss, global_step=global_step)\n",
    "    print(global_step)\n",
    "    \n",
    "    tf.summary.scalar('loss', loss)\n",
    "    summary_op = tf.summary.merge_all()\n",
    "    ckpt_folder, summary_folder, save_path = prepare_folder('test01')\n",
    "\n",
    "    with MySession(do_save=True, load_ckpt=True) as sess:\n",
    "        sess.full_run(\n",
    "            op, loss, max_step=100, step_per_epoch=1000, \n",
    "            global_step=global_step, summary_op=summary_op, \n",
    "            summary_folder=summary_folder, ckpt_folder=ckpt_folder, \n",
    "            save_path=save_path, query_step=10)\n"
   ]
  },
  {
   "cell_type": "code",
   "execution_count": 5,
   "metadata": {
    "collapsed": true
   },
   "outputs": [
    {
     "data": {
      "text/plain": [
       "1"
      ]
     },
     "execution_count": 5,
     "metadata": {},
     "output_type": "execute_result"
    }
   ],
   "source": [
    "import tensorflow as tf\n",
    "from my_classifier import MyClassifier\n",
    "\n",
    "\"\"\"\n",
    "Six-step workflow of data analysis:\n",
    "1. prepare data\n",
    "2. define the model\n",
    "3. define the loss function\n",
    "4. configure the optimizer\n",
    "5. configure the summary\n",
    "6. call a session\n",
    "\"\"\"\n",
    "\n",
    "# TODO: test this part and debug\n",
    "\n",
    "graph = tf.Graph()\n",
    "with graph.as_default():\n",
    "    # load the data\n",
    "    (x_train, y_train), (x_test, y_test) = tf.keras.datasets.mnist.load_data()\n",
    "    \n",
    "    # define the model\n",
    "    net_design = [{'name': 'l1', 'out': 33, 'op': 'd', 'in_reshape': [784]}, \n",
    "                  {'name': 'l2', 'out': 66, 'op': 'd'}, \n",
    "                  {'name': 'l3', 'out': 1, 'op': 'd'}]\n",
    "    mdl = MyClassifier(\n",
    "        net_design, input_shape=[None, 28, 28], num_class=10, \n",
    "        optimizer='momentum', name='classifier')\n",
    "    mdl.train(\n",
    "        x_train, y_train, batch_size=60,\n",
    "        map_func=lambda x, y: (x/255.0, y), \n",
    "        x_validate=x_test, y_validate=y_test, model_folder='trial01')\n",
    "    mdl.test(x_test, y_test, map_func=lambda x, y: (x/255.0, y), model_folder='trial01')\n"
   ]
  },
  {
   "cell_type": "code",
   "execution_count": null,
   "metadata": {},
   "outputs": [],
   "source": []
  }
 ],
 "metadata": {
  "kernelspec": {
   "display_name": "Python 2",
   "language": "python",
   "name": "python2"
  },
  "language_info": {
   "codemirror_mode": {
    "name": "ipython",
    "version": 2
   },
   "file_extension": ".py",
   "mimetype": "text/x-python",
   "name": "python",
   "nbconvert_exporter": "python",
   "pygments_lexer": "ipython2",
   "version": "2.7.6"
  }
 },
 "nbformat": 4,
 "nbformat_minor": 0
}
