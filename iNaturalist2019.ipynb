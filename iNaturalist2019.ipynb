{
 "cells": [
  {
   "cell_type": "code",
   "execution_count": 1,
   "metadata": {
    "collapsed": true
   },
   "outputs": [
    {
     "name": "stdout",
     "output_type": "stream",
     "text": [
      "TensorFlow version 1.12.0\nKeras version 2.1.6-tf\n"
     ]
    }
   ],
   "source": [
    "import tensorflow as tf\n",
    "from tensorflow import keras\n",
    "\n",
    "print('TensorFlow version {}'.format(tf.__version__))\n",
    "print('Keras version {}'.format(keras.__version__))\n"
   ]
  },
  {
   "cell_type": "code",
   "execution_count": 4,
   "metadata": {
    "collapsed": false
   },
   "outputs": [
    {
     "name": "stdout",
     "output_type": "stream",
     "text": [
      "The 4-th validation image locates at train_val2019/Plants/739/ffa06f951e99de9d220aee2c3309b66c.jpg; its class is 739\nThere are 265213 images in train2019.json\nThe tfrecords are saved to /media/richard/My Book/MyBackup/Data/Kaggle_iNaturalist_2019/tfrecords_299/train\n"
     ]
    }
   ],
   "source": [
    "\"\"\"\n",
    "Run this cell to convert the training/validation/test set to tfrecords\n",
    "\n",
    "If you want to run this code, \n",
    "1. copy this cell to a .py file and add a line to change sys.path\n",
    "2. change FLAGS.DEFAULT_DOWNLOAD to:\n",
    "/data/cephfs/punim0811/Datasets/iNaturalist/\n",
    "3. Change output_folder accordingly because I intentionally did not grant \n",
    "you writing permission to the above folder. \n",
    "\n",
    "Convertion time cost:\n",
    "    train - 7800 seconds\n",
    "    val - 100 seconds\n",
    "    test - 1100 seconds\n",
    "\"\"\"\n",
    "from GeneralTools.misc_fun import FLAGS\n",
    "FLAGS.DEFAULT_DOWNLOAD = '/media/richard/My Book/MyBackup/Data/Kaggle_iNaturalist_2019/'\n",
    "from GeneralTools.inaturalist_func import images_to_tfrecords\n",
    "import os.path\n",
    "import json\n",
    "\n",
    "key = 'train'  # choose from {'train', 'val', 'test'}\n",
    "num_images_per_tfrecord = {'train': 11531, 'val': 3030, 'test': 17675}\n",
    "target_size = 299  # change this if you want other image resolution\n",
    "num_images_per_tfrecord = num_images_per_tfrecord[key]\n",
    "\n",
    "# read json file\n",
    "annotation_file = '{}2019.json'.format(key)\n",
    "with open(os.path.join(FLAGS.DEFAULT_DOWNLOAD, annotation_file)) as data_file:\n",
    "    image_annotations = json.load(data_file)\n",
    "\n",
    "# extract image file names and classes if provided\n",
    "images = image_annotations['images']\n",
    "annotations = image_annotations['annotations'] if 'annotations' in image_annotations else None\n",
    "image_names = [image['file_name'] for image in images]\n",
    "image_class = None if annotations is None else [annotation['category_id'] for annotation in annotations]\n",
    "image_index = 4\n",
    "print('The {}-th validation image locates at {}; its class is {}'.format(\n",
    "    image_index, image_names[image_index], 'unknown' if image_class is None else image_class[image_index]))\n",
    "num_images = len(image_names)\n",
    "print('There are {} images in {}'.format(num_images, annotation_file))\n",
    "\n",
    "# configure folders to save the data\n",
    "output_folder = os.path.join(\n",
    "    FLAGS.DEFAULT_DOWNLOAD, 'tfrecords_{}/'.format(target_size))\n",
    "if not os.path.exists(output_folder):\n",
    "    os.makedirs(output_folder)\n",
    "output_filename = output_folder + key\n",
    "print('The tfrecords are saved to {}'.format(output_filename))\n",
    "\n",
    "# # uncomment the following lines to do the actual conversion\n",
    "# images_to_tfrecords(\n",
    "#     image_names, output_filename, num_images_per_tfrecord, \n",
    "#     image_class=image_class, target_size=299)\n"
   ]
  },
  {
   "cell_type": "code",
   "execution_count": 3,
   "metadata": {},
   "outputs": [
    {
     "name": "stdout",
     "output_type": "stream",
     "text": [
      "['val_000']\n"
     ]
    }
   ],
   "source": [
    "\"\"\"\n",
    "This cell reads the train/vali/test tfrecords, and visualize one sample from\n",
    "the batch.\n",
    "\n",
    "If you want to run this code, \n",
    "1. copy this cell to a .py file and add a line to change sys.path\n",
    "2. change FLAGS.DEFAULT_IN to:\n",
    "/data/cephfs/punim0811/Datasets/iNaturalist/tfrecords_299/\n",
    "or your local machine address accordingly if you decide to download \n",
    "some tfrecords file.\n",
    "3. Note that on Spartan, im.show() would not work. However, you may save the \n",
    "example you want to visualize, e.g., im.save('test_image.jpg', 'JPEG')\n",
    "\"\"\"\n",
    "from GeneralTools.misc_fun import FLAGS\n",
    "FLAGS.DEFAULT_IN = '/media/richard/My Book/MyBackup/Data/Kaggle_iNaturalist_2019/tfrecords_299/'\n",
    "FLAGS.IMAGE_FORMAT = 'channels_last'\n",
    "FLAGS.IMAGE_FORMAT_ALIAS = 'NHWC'\n",
    "from GeneralTools.inaturalist_func import ReadTFRecords\n",
    "import os\n",
    "import tensorflow as tf\n",
    "from PIL import Image\n",
    "import numpy as np\n",
    "\n",
    "batch_size = 2\n",
    "target_size = 299\n",
    "key = 'val'\n",
    "data_size = {'train': 265213, 'val': 3030, 'test': 35350}\n",
    "data_label = {'train': 1, 'val': 1, 'test': 0}\n",
    "num_images = data_size[key]\n",
    "skip_count = num_images % batch_size\n",
    "num_labels = data_label[key]\n",
    "    \n",
    "filenames = os.listdir(FLAGS.DEFAULT_IN)\n",
    "filenames = [filename.replace('.tfrecords', '') for filename in filenames if key in filename]\n",
    "print(filenames)\n",
    "\n",
    "dataset = ReadTFRecords(\n",
    "    filenames, num_labels=num_labels, batch_size=1, \n",
    "    skip_count=skip_count, num_threads=8, decode_jpeg=True)\n",
    "dataset.shape2image(3, target_size, target_size)\n",
    "data_batch = dataset.next_batch()\n",
    "\n",
    "with tf.Session() as sess:\n",
    "    if key == 'test':\n",
    "        x = sess.run(data_batch['x'])\n",
    "    else:\n",
    "        x, y = sess.run([data_batch['x'], data_batch['y']])\n",
    "\n",
    "# visualize one sample from the batch\n",
    "x_im = (x[0] + 1.0) * 127.5\n",
    "im = Image.fromarray(x_im.astype(np.uint8), 'RGB')\n",
    "im.show()\n"
   ]
  },
  {
   "cell_type": "code",
   "execution_count": null,
   "metadata": {
    "collapsed": true
   },
   "outputs": [],
   "source": [
    "\n"
   ]
  },
  {
   "cell_type": "code",
   "execution_count": null,
   "metadata": {},
   "outputs": [],
   "source": []
  }
 ],
 "metadata": {
  "kernelspec": {
   "display_name": "Python 2",
   "language": "python",
   "name": "python2"
  },
  "language_info": {
   "codemirror_mode": {
    "name": "ipython",
    "version": 2
   },
   "file_extension": ".py",
   "mimetype": "text/x-python",
   "name": "python",
   "nbconvert_exporter": "python",
   "pygments_lexer": "ipython2",
   "version": "2.7.6"
  }
 },
 "nbformat": 4,
 "nbformat_minor": 0
}
